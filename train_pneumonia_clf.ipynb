{
 "cells": [
  {
   "cell_type": "code",
   "execution_count": 2,
   "metadata": {},
   "outputs": [],
   "source": [
    "from model.vit_classifier import PneumoniaClassifier"
   ]
  },
  {
   "cell_type": "code",
   "execution_count": 4,
   "metadata": {},
   "outputs": [
    {
     "name": "stderr",
     "output_type": "stream",
     "text": [
      "[2024-02-28 13:17:55,991] [INFO] [RANK 0] > initializing model parallel with size 1\n",
      "[2024-02-28 13:17:55,993] [INFO] [RANK 0] You are using model-only mode.\n",
      "For torch.distributed users or loading model parallel models, set environment variables RANK, WORLD_SIZE and LOCAL_RANK.\n",
      "/home/qianq/mycodes/VisualGLM-6B/venv/lib/python3.10/site-packages/torch/nn/init.py:412: UserWarning: Initializing zero-element tensors is a no-op\n",
      "  warnings.warn(\"Initializing zero-element tensors is a no-op\")\n"
     ]
    }
   ],
   "source": [
    "clf = PneumoniaClassifier(\n",
    "    eva_args={\n",
    "        \"num_layers\": 39,\n",
    "        \"hidden_size\": 1408,\n",
    "        \"num_attention_heads\": 16,\n",
    "        \"vocab_size\": 1,\n",
    "        \"layernorm_order\": \"pre\",\n",
    "        \"model_parallel_size\": 1,\n",
    "        \"max_sequence_length\": 257,\n",
    "        \"inner_hidden_size\": 6144,\n",
    "        \"use_final_layernorm\": False,\n",
    "        \"layernorm_epsilon\": 1e-06,\n",
    "        \"image_size\": [224, 224],\n",
    "        \"pre_len\": 1,\n",
    "        \"post_len\": 0,\n",
    "        \"in_channels\": 3,\n",
    "        \"num_classes\": 0,\n",
    "        \"patch_size\": 14,\n",
    "    }\n",
    ")\n"
   ]
  },
  {
   "cell_type": "code",
   "execution_count": 5,
   "metadata": {},
   "outputs": [
    {
     "data": {
      "text/plain": [
       "PneumoniaClassifier(\n",
       "  (vit): EVAViT(\n",
       "    (mixins): ModuleDict(\n",
       "      (patch_embedding): ImagePatchEmbeddingMixin(\n",
       "        (proj): Conv2d(3, 1408, kernel_size=(14, 14), stride=(14, 14))\n",
       "      )\n",
       "      (pos_embedding): InterpolatedPositionEmbeddingMixin()\n",
       "      (cls): LNFinalyMixin(\n",
       "        (ln_vision): LayerNorm((1408,), eps=1e-05, elementwise_affine=True)\n",
       "      )\n",
       "    )\n",
       "    (transformer): BaseTransformer(\n",
       "      (embedding_dropout): Dropout(p=0.1, inplace=False)\n",
       "      (word_embeddings): Embedding(1, 1408)\n",
       "      (position_embeddings): Embedding(257, 1408)\n",
       "      (layers): ModuleList(\n",
       "        (0-38): 39 x BaseTransformerLayer(\n",
       "          (input_layernorm): LayerNorm((1408,), eps=1e-06, elementwise_affine=True)\n",
       "          (attention): SelfAttention(\n",
       "            (query_key_value): ColumnParallelLinear()\n",
       "            (attention_dropout): Dropout(p=0.1, inplace=False)\n",
       "            (dense): RowParallelLinear()\n",
       "            (output_dropout): Dropout(p=0.1, inplace=False)\n",
       "          )\n",
       "          (post_attention_layernorm): LayerNorm((1408,), eps=1e-06, elementwise_affine=True)\n",
       "          (mlp): MLP(\n",
       "            (dense_h_to_4h): ColumnParallelLinear()\n",
       "            (dense_4h_to_h): RowParallelLinear()\n",
       "            (dropout): Dropout(p=0.1, inplace=False)\n",
       "          )\n",
       "        )\n",
       "      )\n",
       "    )\n",
       "  )\n",
       ")"
      ]
     },
     "execution_count": 5,
     "metadata": {},
     "output_type": "execute_result"
    }
   ],
   "source": [
    "clf.load_state_dict"
   ]
  }
 ],
 "metadata": {
  "kernelspec": {
   "display_name": "venv",
   "language": "python",
   "name": "python3"
  },
  "language_info": {
   "codemirror_mode": {
    "name": "ipython",
    "version": 3
   },
   "file_extension": ".py",
   "mimetype": "text/x-python",
   "name": "python",
   "nbconvert_exporter": "python",
   "pygments_lexer": "ipython3",
   "version": "3.10.6"
  },
  "orig_nbformat": 4
 },
 "nbformat": 4,
 "nbformat_minor": 2
}
